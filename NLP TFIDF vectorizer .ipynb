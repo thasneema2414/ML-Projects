{
 "cells": [
  {
   "cell_type": "code",
   "execution_count": 1,
   "metadata": {},
   "outputs": [],
   "source": [
    "import numpy as np\n",
    "import pandas as pd\n",
    "import re\n",
    "from sklearn.preprocessing import LabelEncoder\n",
    "from nltk.corpus import stopwords\n",
    "from nltk.tokenize import word_tokenize\n",
    "from nltk.stem import PorterStemmer\n",
    "from sklearn.feature_extraction.text import TfidfVectorizer\n",
    "from sklearn.model_selection import train_test_split\n",
    "from sklearn.tree import DecisionTreeClassifier"
   ]
  },
  {
   "cell_type": "code",
   "execution_count": 2,
   "metadata": {},
   "outputs": [],
   "source": [
    "data = pd.read_csv(r'C:\\Users\\Thasni\\Desktop\\spam.csv.csv')"
   ]
  },
  {
   "cell_type": "code",
   "execution_count": 4,
   "metadata": {},
   "outputs": [],
   "source": [
    "data = data.head(50)"
   ]
  },
  {
   "cell_type": "code",
   "execution_count": 9,
   "metadata": {},
   "outputs": [
    {
     "data": {
      "text/html": [
       "<div>\n",
       "<style scoped>\n",
       "    .dataframe tbody tr th:only-of-type {\n",
       "        vertical-align: middle;\n",
       "    }\n",
       "\n",
       "    .dataframe tbody tr th {\n",
       "        vertical-align: top;\n",
       "    }\n",
       "\n",
       "    .dataframe thead th {\n",
       "        text-align: right;\n",
       "    }\n",
       "</style>\n",
       "<table border=\"1\" class=\"dataframe\">\n",
       "  <thead>\n",
       "    <tr style=\"text-align: right;\">\n",
       "      <th></th>\n",
       "      <th>Category</th>\n",
       "      <th>Message</th>\n",
       "    </tr>\n",
       "  </thead>\n",
       "  <tbody>\n",
       "    <tr>\n",
       "      <th>0</th>\n",
       "      <td>0</td>\n",
       "      <td>Go until jurong point, crazy.. Available only ...</td>\n",
       "    </tr>\n",
       "    <tr>\n",
       "      <th>1</th>\n",
       "      <td>0</td>\n",
       "      <td>Ok lar... Joking wif u oni...</td>\n",
       "    </tr>\n",
       "    <tr>\n",
       "      <th>2</th>\n",
       "      <td>1</td>\n",
       "      <td>Free entry in 2 a wkly comp to win FA Cup fina...</td>\n",
       "    </tr>\n",
       "    <tr>\n",
       "      <th>3</th>\n",
       "      <td>0</td>\n",
       "      <td>U dun say so early hor... U c already then say...</td>\n",
       "    </tr>\n",
       "    <tr>\n",
       "      <th>4</th>\n",
       "      <td>0</td>\n",
       "      <td>Nah I don't think he goes to usf, he lives aro...</td>\n",
       "    </tr>\n",
       "  </tbody>\n",
       "</table>\n",
       "</div>"
      ],
      "text/plain": [
       "   Category                                            Message\n",
       "0         0  Go until jurong point, crazy.. Available only ...\n",
       "1         0                      Ok lar... Joking wif u oni...\n",
       "2         1  Free entry in 2 a wkly comp to win FA Cup fina...\n",
       "3         0  U dun say so early hor... U c already then say...\n",
       "4         0  Nah I don't think he goes to usf, he lives aro..."
      ]
     },
     "execution_count": 9,
     "metadata": {},
     "output_type": "execute_result"
    }
   ],
   "source": [
    "data.head()"
   ]
  },
  {
   "cell_type": "code",
   "execution_count": 8,
   "metadata": {},
   "outputs": [],
   "source": [
    "le = LabelEncoder()\n",
    "data['Category'] = le.fit_transform(data.Category)"
   ]
  },
  {
   "cell_type": "code",
   "execution_count": 10,
   "metadata": {},
   "outputs": [],
   "source": [
    "stp = stopwords.words('English')"
   ]
  },
  {
   "cell_type": "code",
   "execution_count": 11,
   "metadata": {},
   "outputs": [],
   "source": [
    "stems = PorterStemmer()"
   ]
  },
  {
   "cell_type": "code",
   "execution_count": 18,
   "metadata": {},
   "outputs": [],
   "source": [
    "msg = []\n",
    "for i in range(len(data)):\n",
    "    st = data.Message[i].lower()\n",
    "    st = re.sub(r\"[^a-z]+\",\" \",st)\n",
    "    st = word_tokenize(st) \n",
    "    li = ''\n",
    "    for j in st:\n",
    "        if j not in stp:\n",
    "            li = li+' '\n",
    "            li = li+j\n",
    "    msg.append(li)   \n",
    "    "
   ]
  },
  {
   "cell_type": "code",
   "execution_count": 19,
   "metadata": {},
   "outputs": [
    {
     "data": {
      "text/plain": [
       "[' go jurong point crazy available bugis n great world la e buffet cine got amore wat',\n",
       " ' ok lar joking wif u oni',\n",
       " ' free entry wkly comp win fa cup final tkts st may text fa receive entry question std txt rate c apply',\n",
       " ' u dun say early hor u c already say',\n",
       " ' nah think goes usf lives around though',\n",
       " ' freemsg hey darling week word back like fun still tb ok xxx std chgs send rcv',\n",
       " ' even brother like speak treat like aids patent',\n",
       " ' per request melle melle oru minnaminunginte nurungu vettam set callertune callers press copy friends callertune',\n",
       " ' winner valued network customer selected receivea prize reward claim call claim code kl valid hours',\n",
       " ' mobile months u r entitled update latest colour mobiles camera free call mobile update co free',\n",
       " ' gon na home soon want talk stuff anymore tonight k cried enough today',\n",
       " ' six chances win cash pounds txt csh send cost p day days tsandcs apply reply hl info',\n",
       " ' urgent week free membership prize jackpot txt word claim c www dbuk net lccltd pobox ldnw rw',\n",
       " ' searching right words thank breather promise wont take help granted fulfil promise wonderful blessing times',\n",
       " ' date sunday',\n",
       " ' xxxmobilemovieclub use credit click wap link next txt message click http wap xxxmobilemovieclub com n qjkgighjjgcbl',\n",
       " ' oh k watching',\n",
       " ' eh u remember spell name yes v naughty make v wet',\n",
       " ' fine way u feel way gota b',\n",
       " ' england v macedonia dont miss goals team news txt ur national team eg england try wales scotland txt poboxox w wq',\n",
       " ' seriously spell name',\n",
       " ' going try months ha ha joking',\n",
       " ' pay first lar da stock comin',\n",
       " ' aft finish lunch go str lor ard smth lor u finish ur lunch already',\n",
       " ' ffffffffff alright way meet sooner',\n",
       " ' forced eat slice really hungry tho sucks mark getting worried knows sick turn pizza lol',\n",
       " ' lol always convincing',\n",
       " ' catch bus frying egg make tea eating mom left dinner feel love',\n",
       " ' back amp packing car let know room',\n",
       " ' ahhh work vaguely remember feel like lol',\n",
       " ' wait still clear sure sarcastic x want live us',\n",
       " ' yeah got v apologetic n fallen actin like spoilt child got caught till go badly cheers',\n",
       " ' k tell anything',\n",
       " ' fear fainting housework quick cuppa',\n",
       " ' thanks subscription ringtone uk mobile charged month please confirm replying yes reply charged',\n",
       " ' yup ok go home look timings msg xuhui going learn nd may lesson',\n",
       " ' oops let know roommate done',\n",
       " ' see letter b car',\n",
       " ' anything lor u decide',\n",
       " ' hello saturday go texting see decided anything tomo trying invite anything',\n",
       " ' pls go ahead watts wanted sure great weekend abiola',\n",
       " ' forget tell want need crave love sweet arabian steed mmmmmm yummy',\n",
       " ' rodger burns msg tried call reply sms free nokia mobile free camcorder please call delivery tomorrow',\n",
       " ' seeing',\n",
       " ' great hope like man well endowed lt gt inches',\n",
       " ' calls messages missed calls',\n",
       " ' get hep b immunisation nigeria',\n",
       " ' fair enough anything going',\n",
       " ' yeah hopefully tyler could maybe ask around bit',\n",
       " ' u know stubborn even want go hospital kept telling mark weak sucker hospitals weak suckers']"
      ]
     },
     "execution_count": 19,
     "metadata": {},
     "output_type": "execute_result"
    }
   ],
   "source": [
    "msg"
   ]
  },
  {
   "cell_type": "code",
   "execution_count": 20,
   "metadata": {},
   "outputs": [],
   "source": [
    "tf_idf = TfidfVectorizer()"
   ]
  },
  {
   "cell_type": "code",
   "execution_count": 31,
   "metadata": {},
   "outputs": [],
   "source": [
    "x = msg\n",
    "y = data.Category"
   ]
  },
  {
   "cell_type": "code",
   "execution_count": 32,
   "metadata": {},
   "outputs": [],
   "source": [
    "x_train,x_test,y_train,y_test = train_test_split(x,y,test_size = 0.25,random_state=2)"
   ]
  },
  {
   "cell_type": "code",
   "execution_count": 33,
   "metadata": {},
   "outputs": [
    {
     "data": {
      "text/plain": [
       "TfidfVectorizer()"
      ]
     },
     "execution_count": 33,
     "metadata": {},
     "output_type": "execute_result"
    }
   ],
   "source": [
    "tf_idf.fit(x_train)"
   ]
  },
  {
   "cell_type": "code",
   "execution_count": 34,
   "metadata": {},
   "outputs": [],
   "source": [
    "x_train = tf_idf.transform(x_train).toarray()"
   ]
  },
  {
   "cell_type": "code",
   "execution_count": 35,
   "metadata": {},
   "outputs": [],
   "source": [
    "model = DecisionTreeClassifier()"
   ]
  },
  {
   "cell_type": "code",
   "execution_count": 36,
   "metadata": {},
   "outputs": [
    {
     "data": {
      "text/plain": [
       "DecisionTreeClassifier()"
      ]
     },
     "execution_count": 36,
     "metadata": {},
     "output_type": "execute_result"
    }
   ],
   "source": [
    "model.fit(x_train,y_train)"
   ]
  },
  {
   "cell_type": "code",
   "execution_count": 37,
   "metadata": {},
   "outputs": [],
   "source": [
    "x_test = tf_idf.transform(x_test).toarray()"
   ]
  },
  {
   "cell_type": "code",
   "execution_count": 39,
   "metadata": {},
   "outputs": [
    {
     "data": {
      "text/plain": [
       "0.9230769230769231"
      ]
     },
     "execution_count": 39,
     "metadata": {},
     "output_type": "execute_result"
    }
   ],
   "source": [
    "model.score(x_test,y_test)"
   ]
  },
  {
   "cell_type": "code",
   "execution_count": null,
   "metadata": {},
   "outputs": [],
   "source": []
  }
 ],
 "metadata": {
  "kernelspec": {
   "display_name": "Python 3",
   "language": "python",
   "name": "python3"
  },
  "language_info": {
   "codemirror_mode": {
    "name": "ipython",
    "version": 3
   },
   "file_extension": ".py",
   "mimetype": "text/x-python",
   "name": "python",
   "nbconvert_exporter": "python",
   "pygments_lexer": "ipython3",
   "version": "3.8.3"
  }
 },
 "nbformat": 4,
 "nbformat_minor": 4
}
